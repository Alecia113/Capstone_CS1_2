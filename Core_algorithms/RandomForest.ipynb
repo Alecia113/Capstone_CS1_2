{
 "cells": [
  {
   "cell_type": "code",
   "execution_count": 1,
   "metadata": {},
   "outputs": [],
   "source": [
    "import pandas as pd \n",
    "import numpy as np\n",
    "import matplotlib.pyplot as plt\n",
    "import seaborn as sns\n",
    "\n",
    "from sklearn.preprocessing import LabelEncoder, StandardScaler, OneHotEncoder\n",
    "\n",
    "from sklearn.feature_selection import SelectKBest, f_classif\n",
    "\n",
    "from sklearn.model_selection import train_test_split, cross_val_score, RepeatedStratifiedKFold,RandomizedSearchCV, GridSearchCV\n",
    "from sklearn.metrics import accuracy_score, f1_score,classification_report,precision_score,recall_score\n",
    "from sklearn.metrics import classification_report, roc_curve, confusion_matrix\n",
    "from sklearn.metrics import precision_recall_curve, roc_auc_score\n",
    "\n",
    "from collections import Counter\n",
    "from sklearn.model_selection import KFold,StratifiedKFold\n",
    "# modelos\n",
    "from sklearn.tree import DecisionTreeClassifier\n",
    "from sklearn.ensemble import RandomForestClassifier, AdaBoostClassifier, GradientBoostingClassifier\n",
    "from sklearn.ensemble import  ExtraTreesClassifier,VotingClassifier\n",
    "from sklearn.neighbors import KNeighborsClassifier\n",
    "from sklearn.linear_model import LogisticRegression\n",
    "from sklearn.svm import SVC\n",
    "from imblearn.over_sampling import SMOTE\n",
    "from imblearn.under_sampling import RandomUnderSampler\n",
    "from imblearn.pipeline import Pipeline\n",
    "\n"
   ]
  },
  {
   "cell_type": "code",
   "execution_count": 2,
   "metadata": {},
   "outputs": [],
   "source": [
    "data = pd.read_csv('healthcare-dataset-stroke-data.csv')"
   ]
  },
  {
   "cell_type": "code",
   "execution_count": 3,
   "metadata": {},
   "outputs": [
    {
     "data": {
      "text/html": [
       "<div>\n",
       "<style scoped>\n",
       "    .dataframe tbody tr th:only-of-type {\n",
       "        vertical-align: middle;\n",
       "    }\n",
       "\n",
       "    .dataframe tbody tr th {\n",
       "        vertical-align: top;\n",
       "    }\n",
       "\n",
       "    .dataframe thead th {\n",
       "        text-align: right;\n",
       "    }\n",
       "</style>\n",
       "<table border=\"1\" class=\"dataframe\">\n",
       "  <thead>\n",
       "    <tr style=\"text-align: right;\">\n",
       "      <th></th>\n",
       "      <th>id</th>\n",
       "      <th>gender</th>\n",
       "      <th>age</th>\n",
       "      <th>hypertension</th>\n",
       "      <th>heart_disease</th>\n",
       "      <th>ever_married</th>\n",
       "      <th>work_type</th>\n",
       "      <th>Residence_type</th>\n",
       "      <th>avg_glucose_level</th>\n",
       "      <th>bmi</th>\n",
       "      <th>smoking_status</th>\n",
       "      <th>stroke</th>\n",
       "    </tr>\n",
       "  </thead>\n",
       "  <tbody>\n",
       "    <tr>\n",
       "      <th>0</th>\n",
       "      <td>9046</td>\n",
       "      <td>Male</td>\n",
       "      <td>67.0</td>\n",
       "      <td>0</td>\n",
       "      <td>1</td>\n",
       "      <td>Yes</td>\n",
       "      <td>Private</td>\n",
       "      <td>Urban</td>\n",
       "      <td>228.69</td>\n",
       "      <td>36.6</td>\n",
       "      <td>formerly smoked</td>\n",
       "      <td>1</td>\n",
       "    </tr>\n",
       "    <tr>\n",
       "      <th>1</th>\n",
       "      <td>51676</td>\n",
       "      <td>Female</td>\n",
       "      <td>61.0</td>\n",
       "      <td>0</td>\n",
       "      <td>0</td>\n",
       "      <td>Yes</td>\n",
       "      <td>Self-employed</td>\n",
       "      <td>Rural</td>\n",
       "      <td>202.21</td>\n",
       "      <td>NaN</td>\n",
       "      <td>never smoked</td>\n",
       "      <td>1</td>\n",
       "    </tr>\n",
       "    <tr>\n",
       "      <th>2</th>\n",
       "      <td>31112</td>\n",
       "      <td>Male</td>\n",
       "      <td>80.0</td>\n",
       "      <td>0</td>\n",
       "      <td>1</td>\n",
       "      <td>Yes</td>\n",
       "      <td>Private</td>\n",
       "      <td>Rural</td>\n",
       "      <td>105.92</td>\n",
       "      <td>32.5</td>\n",
       "      <td>never smoked</td>\n",
       "      <td>1</td>\n",
       "    </tr>\n",
       "    <tr>\n",
       "      <th>3</th>\n",
       "      <td>60182</td>\n",
       "      <td>Female</td>\n",
       "      <td>49.0</td>\n",
       "      <td>0</td>\n",
       "      <td>0</td>\n",
       "      <td>Yes</td>\n",
       "      <td>Private</td>\n",
       "      <td>Urban</td>\n",
       "      <td>171.23</td>\n",
       "      <td>34.4</td>\n",
       "      <td>smokes</td>\n",
       "      <td>1</td>\n",
       "    </tr>\n",
       "    <tr>\n",
       "      <th>4</th>\n",
       "      <td>1665</td>\n",
       "      <td>Female</td>\n",
       "      <td>79.0</td>\n",
       "      <td>1</td>\n",
       "      <td>0</td>\n",
       "      <td>Yes</td>\n",
       "      <td>Self-employed</td>\n",
       "      <td>Rural</td>\n",
       "      <td>174.12</td>\n",
       "      <td>24.0</td>\n",
       "      <td>never smoked</td>\n",
       "      <td>1</td>\n",
       "    </tr>\n",
       "  </tbody>\n",
       "</table>\n",
       "</div>"
      ],
      "text/plain": [
       "      id  gender   age  hypertension  heart_disease ever_married  \\\n",
       "0   9046    Male  67.0             0              1          Yes   \n",
       "1  51676  Female  61.0             0              0          Yes   \n",
       "2  31112    Male  80.0             0              1          Yes   \n",
       "3  60182  Female  49.0             0              0          Yes   \n",
       "4   1665  Female  79.0             1              0          Yes   \n",
       "\n",
       "       work_type Residence_type  avg_glucose_level   bmi   smoking_status  \\\n",
       "0        Private          Urban             228.69  36.6  formerly smoked   \n",
       "1  Self-employed          Rural             202.21   NaN     never smoked   \n",
       "2        Private          Rural             105.92  32.5     never smoked   \n",
       "3        Private          Urban             171.23  34.4           smokes   \n",
       "4  Self-employed          Rural             174.12  24.0     never smoked   \n",
       "\n",
       "   stroke  \n",
       "0       1  \n",
       "1       1  \n",
       "2       1  \n",
       "3       1  \n",
       "4       1  "
      ]
     },
     "execution_count": 3,
     "metadata": {},
     "output_type": "execute_result"
    }
   ],
   "source": [
    "data.head(5)"
   ]
  },
  {
   "cell_type": "code",
   "execution_count": 4,
   "metadata": {},
   "outputs": [],
   "source": [
    "# drop 'id' column\n",
    "# without id \n",
    "data = data.drop(['id'], axis=1)"
   ]
  },
  {
   "cell_type": "markdown",
   "metadata": {},
   "source": [
    "To fill in the gaps in bmi, we use the following method. \n",
    "1. Create a new column \"age_mean\". Divide the age of all users into 5 ranges.\n",
    "2. Calculate the average bmi value for each age range.\n",
    "3. Fill in the blanks by replacing the empty values with the average bmi based on age_mean."
   ]
  },
  {
   "cell_type": "code",
   "execution_count": 5,
   "metadata": {},
   "outputs": [
    {
     "data": {
      "text/plain": [
       "age_mean\n",
       "1    20.787661\n",
       "2    28.601332\n",
       "3    31.425088\n",
       "4    31.580618\n",
       "5    29.415118\n",
       "Name: bmi, dtype: float64"
      ]
     },
     "execution_count": 5,
     "metadata": {},
     "output_type": "execute_result"
    }
   ],
   "source": [
    "\n",
    "label = [1,2,3,4,5]\n",
    "data[\"age_mean\"] = pd.cut(data[\"age\"], 5, labels = label)\n",
    "data[\"age_mean\"].value_counts()\n",
    "bmi_group = data.groupby(\"age_mean\")[\"bmi\"].mean() #将年龄阶段分为五组，分别计算平均的bmi\n",
    "bmi_group"
   ]
  },
  {
   "cell_type": "code",
   "execution_count": 7,
   "metadata": {},
   "outputs": [],
   "source": [
    "def bmi_val(cols): # Assign average bmi by age range \n",
    "    bmi = cols[0]\n",
    "    age_mean = cols[1]\n",
    "    \n",
    "    if pd.isnull(bmi):\n",
    "        if age_mean == 1:\n",
    "            return 20.7\n",
    "        elif age_mean == 2:\n",
    "            return 28.6\n",
    "        elif age_mean == 3:\n",
    "            return 31.4\n",
    "        elif age_mean == 4:\n",
    "            return 31.6\n",
    "        elif age_mean == 5:\n",
    "            return 29.4\n",
    "    else:\n",
    "        return bmi"
   ]
  },
  {
   "cell_type": "code",
   "execution_count": 8,
   "metadata": {},
   "outputs": [],
   "source": [
    "data[\"bmi\"] = data[[\"bmi\",\"age_mean\"]].apply(bmi_val, axis=1)"
   ]
  },
  {
   "cell_type": "code",
   "execution_count": 9,
   "metadata": {},
   "outputs": [
    {
     "data": {
      "text/plain": [
       "gender               0\n",
       "age                  0\n",
       "hypertension         0\n",
       "heart_disease        0\n",
       "ever_married         0\n",
       "work_type            0\n",
       "Residence_type       0\n",
       "avg_glucose_level    0\n",
       "bmi                  0\n",
       "smoking_status       0\n",
       "stroke               0\n",
       "age_mean             0\n",
       "dtype: int64"
      ]
     },
     "execution_count": 9,
     "metadata": {},
     "output_type": "execute_result"
    }
   ],
   "source": [
    "data.isnull().sum() "
   ]
  },
  {
   "cell_type": "code",
   "execution_count": 10,
   "metadata": {},
   "outputs": [],
   "source": [
    "#Change 'other' to ‘Female’\n",
    "data.gender = data.gender.apply(\n",
    "    lambda x: 0 \n",
    "    if ((x == 'Female') or (x == 'Other')) \n",
    "    else 1)\n",
    "\n"
   ]
  },
  {
   "cell_type": "code",
   "execution_count": 11,
   "metadata": {},
   "outputs": [
    {
     "data": {
      "image/png": "[encoded data removed]",
      "text/plain": [
       "<Figure size 864x360 with 1 Axes>"
      ]
     },
     "metadata": {
      "needs_background": "light"
     },
     "output_type": "display_data"
    }
   ],
   "source": [
    "data1 = data.drop('age_mean', axis = 1)\n",
    "#print(data1.head(2))\n",
    "one_hot_data = pd.get_dummies(data1.iloc[:,:])\n",
    "#one_hot_data.head(2)\n",
    "plt.figure(figsize=(12,5))\n",
    "one_hot_data.corr()[\"stroke\"].sort_values(ascending=False).plot(kind=\"bar\")\n",
    "plt.title('feature importance')\n",
    "plt.show()"
   ]
  },
  {
   "cell_type": "code",
   "execution_count": 12,
   "metadata": {},
   "outputs": [
    {
     "name": "stdout",
     "output_type": "stream",
     "text": [
      "<class 'pandas.core.frame.DataFrame'>\n",
      "RangeIndex: 5110 entries, 0 to 5109\n",
      "Data columns (total 7 columns):\n",
      " #   Column             Non-Null Count  Dtype   \n",
      "---  ------             --------------  -----   \n",
      " 0   age                5110 non-null   float64 \n",
      " 1   hypertension       5110 non-null   int64   \n",
      " 2   heart_disease      5110 non-null   int64   \n",
      " 3   avg_glucose_level  5110 non-null   float64 \n",
      " 4   bmi                5110 non-null   float64 \n",
      " 5   stroke             5110 non-null   int64   \n",
      " 6   age_mean           5110 non-null   category\n",
      "dtypes: category(1), float64(3), int64(3)\n",
      "memory usage: 244.8 KB\n"
     ]
    }
   ],
   "source": [
    "# Encode the target tag with values between 0 and n_classes-1 / encode the classification characteristics as a one-key numeric array\n",
    "one_hot = OneHotEncoder()\n",
    "\n",
    "data['gender'] = pd.Categorical(data['gender'])\n",
    "d_gender = pd.get_dummies(data['gender'],prefix='gender_encoded')\n",
    "\n",
    "data['smoking_status']=pd.Categorical(data['smoking_status'])\n",
    "d_smoking_status=pd.get_dummies(data['smoking_status'],prefix='smoking_status_encode')\n",
    "\n",
    "data['work_type'] = pd.Categorical(data['work_type'])\n",
    "d_work_type = pd.get_dummies(data['work_type'], prefix = 'work_type_encoded')\n",
    "\n",
    "data['Residence_type'] = pd.Categorical(data['Residence_type'])\n",
    "d_Residence_type = pd.get_dummies(data['Residence_type'], prefix = 'Residence_type_encoded')\n",
    "\n",
    "data['ever_married'] = pd.Categorical(data['ever_married'])\n",
    "d_ever_married = pd.get_dummies(data['ever_married'], prefix = 'ever_married_encoded')\n",
    "\n",
    "#delete cols\n",
    "data.drop(['gender'], axis=1, inplace=True)\n",
    "data.drop([\"work_type\"], axis=1, inplace=True)\n",
    "data.drop([\"smoking_status\"], axis=1, inplace=True)\n",
    "data.drop([\"Residence_type\"], axis=1, inplace=True)\n",
    "data.drop([\"ever_married\"], axis=1, inplace=True)\n",
    "data.info()\n"
   ]
  },
  {
   "cell_type": "code",
   "execution_count": 13,
   "metadata": {},
   "outputs": [
    {
     "name": "stdout",
     "output_type": "stream",
     "text": [
      "<class 'pandas.core.frame.DataFrame'>\n",
      "RangeIndex: 5110 entries, 0 to 5109\n",
      "Data columns (total 22 columns):\n",
      " #   Column                                 Non-Null Count  Dtype   \n",
      "---  ------                                 --------------  -----   \n",
      " 0   age                                    5110 non-null   float64 \n",
      " 1   hypertension                           5110 non-null   int64   \n",
      " 2   heart_disease                          5110 non-null   int64   \n",
      " 3   avg_glucose_level                      5110 non-null   float64 \n",
      " 4   bmi                                    5110 non-null   float64 \n",
      " 5   stroke                                 5110 non-null   int64   \n",
      " 6   age_mean                               5110 non-null   category\n",
      " 7   gender_encoded_0                       5110 non-null   uint8   \n",
      " 8   gender_encoded_1                       5110 non-null   uint8   \n",
      " 9   work_type_encoded_Govt_job             5110 non-null   uint8   \n",
      " 10  work_type_encoded_Never_worked         5110 non-null   uint8   \n",
      " 11  work_type_encoded_Private              5110 non-null   uint8   \n",
      " 12  work_type_encoded_Self-employed        5110 non-null   uint8   \n",
      " 13  work_type_encoded_children             5110 non-null   uint8   \n",
      " 14  smoking_status_encode_Unknown          5110 non-null   uint8   \n",
      " 15  smoking_status_encode_formerly smoked  5110 non-null   uint8   \n",
      " 16  smoking_status_encode_never smoked     5110 non-null   uint8   \n",
      " 17  smoking_status_encode_smokes           5110 non-null   uint8   \n",
      " 18  Residence_type_encoded_Rural           5110 non-null   uint8   \n",
      " 19  Residence_type_encoded_Urban           5110 non-null   uint8   \n",
      " 20  ever_married_encoded_No                5110 non-null   uint8   \n",
      " 21  ever_married_encoded_Yes               5110 non-null   uint8   \n",
      "dtypes: category(1), float64(3), int64(3), uint8(15)\n",
      "memory usage: 319.7 KB\n"
     ]
    }
   ],
   "source": [
    "# Add new columns \n",
    "data=pd.concat([data,d_gender],axis=1)\n",
    "data=pd.concat([data,d_work_type],axis=1)\n",
    "data=pd.concat([data,d_smoking_status],axis=1)\n",
    "data=pd.concat([data,d_Residence_type],axis=1)\n",
    "data=pd.concat([data,d_ever_married],axis=1)\n",
    "data.info()\n"
   ]
  },
  {
   "cell_type": "code",
   "execution_count": 14,
   "metadata": {},
   "outputs": [
    {
     "name": "stdout",
     "output_type": "stream",
     "text": [
      "(5110, 21)\n"
     ]
    }
   ],
   "source": [
    "data = data.drop(['age_mean'],axis=1)\n",
    "print(data.shape)"
   ]
  },
  {
   "cell_type": "markdown",
   "metadata": {},
   "source": [
    "using SMOTE method to optimize the imbalanced dataset"
   ]
  },
  {
   "cell_type": "code",
   "execution_count": 15,
   "metadata": {},
   "outputs": [
    {
     "name": "stdout",
     "output_type": "stream",
     "text": [
      "> k=1, Mean ROC AUC: 0.790\n",
      "> k=2, Mean ROC AUC: 0.795\n",
      "> k=3, Mean ROC AUC: 0.792\n",
      "> k=4, Mean ROC AUC: 0.797\n",
      "> k=5, Mean ROC AUC: 0.787\n",
      "> k=6, Mean ROC AUC: 0.792\n",
      "> k=7, Mean ROC AUC: 0.792\n"
     ]
    }
   ],
   "source": [
    "k_values = [1, 2, 3, 4, 5, 6, 7]\n",
    "X = data.drop(['stroke'], axis=1)\n",
    "y = data.stroke\n",
    "\n",
    "k_scores = []\n",
    "for k in k_values:\n",
    "    # define pipeline\n",
    "    rf = RandomForestClassifier()\n",
    "    over  = SMOTE(sampling_strategy = 0.1, k_neighbors = k)\n",
    "    steps = [('over', over), ('model', rf)]\n",
    "    \n",
    "    pipeline = Pipeline(steps=steps)\n",
    "    \n",
    "    # evaluate pipeline\n",
    "    cv = RepeatedStratifiedKFold(n_splits=10, n_repeats=3, random_state=1)\n",
    "    \n",
    "    scores = cross_val_score(rf, X, y, scoring='roc_auc', cv=cv, n_jobs=-1)\n",
    "    score = np.mean(scores)\n",
    "    k_scores.append((k, score))\n",
    "    print('> k=%d, Mean ROC AUC: %.3f' % (k, score))"
   ]
  },
  {
   "cell_type": "code",
   "execution_count": 16,
   "metadata": {},
   "outputs": [
    {
     "name": "stdout",
     "output_type": "stream",
     "text": [
      "4\n"
     ]
    }
   ],
   "source": [
    "sorted(k_scores, key=lambda tup: tup[1])\n",
    "best_k = sorted(k_scores, key=lambda tup: tup[1])[-1][0]\n",
    "print(best_k)"
   ]
  },
  {
   "cell_type": "code",
   "execution_count": 17,
   "metadata": {},
   "outputs": [
    {
     "name": "stdout",
     "output_type": "stream",
     "text": [
      "Number of stork(1) and non-stroke(0) data: Counter({1: 4861, 0: 4861})\n"
     ]
    }
   ],
   "source": [
    "over  = SMOTE(k_neighbors=best_k)\n",
    "\n",
    "steps = [('over', over)]\n",
    "pipeline = Pipeline(steps=steps)\n",
    "X, y = pipeline.fit_resample(X, y)\n",
    "counter = Counter(y)\n",
    "print('Number of stork(1) and non-stroke(0) data:', counter)"
   ]
  },
  {
   "cell_type": "code",
   "execution_count": 18,
   "metadata": {},
   "outputs": [],
   "source": [
    "# split the dataset into train dataset and test dataset\n",
    "X_train, X_test, y_train, y_test = train_test_split(X, y, test_size=0.20, stratify = y, random_state=42)"
   ]
  },
  {
   "cell_type": "code",
   "execution_count": 19,
   "metadata": {},
   "outputs": [],
   "source": [
    "# Initialization RandomForest algorithm (find the best parameters)\n",
    "rf = RandomForestClassifier()\n",
    "\n",
    "n_estimators = [100,500,700,1000]\n",
    "max_depth = [int(x) for x in np.linspace(10, 110, num = 11)]\n",
    "max_depth.append(None)\n",
    "min_samples_split = [2, 5, 10]\n",
    "min_samples_leaf = [1, 2, 4]\n",
    "bootstrap = [True, False]\n",
    "\n",
    "grid =         {'n_estimators': n_estimators,\n",
    "               'max_depth': max_depth,\n",
    "               'min_samples_split': min_samples_split,\n",
    "               'min_samples_leaf': min_samples_leaf,\n",
    "               'bootstrap': bootstrap}\n",
    "\n",
    "search_rf = RandomizedSearchCV(estimator = rf, param_distributions = grid, cv = 5, verbose=1, n_jobs=-1)\n"
   ]
  },
  {
   "cell_type": "code",
   "execution_count": 21,
   "metadata": {},
   "outputs": [
    {
     "name": "stdout",
     "output_type": "stream",
     "text": [
      "Fitting 5 folds for each of 10 candidates, totalling 50 fits\n"
     ]
    },
    {
     "data": {
      "text/plain": [
       "RandomizedSearchCV(cv=5, estimator=RandomForestClassifier(), n_jobs=-1,\n",
       "                   param_distributions={'bootstrap': [True, False],\n",
       "                                        'max_depth': [10, 20, 30, 40, 50, 60,\n",
       "                                                      70, 80, 90, 100, 110,\n",
       "                                                      None],\n",
       "                                        'min_samples_leaf': [1, 2, 4],\n",
       "                                        'min_samples_split': [2, 5, 10],\n",
       "                                        'n_estimators': [100, 500, 700, 1000]},\n",
       "                   verbose=1)"
      ]
     },
     "execution_count": 21,
     "metadata": {},
     "output_type": "execute_result"
    }
   ],
   "source": [
    "# training dataset, construct model\n",
    "search_rf.fit(X_train, y_train)"
   ]
  },
  {
   "cell_type": "code",
   "execution_count": 22,
   "metadata": {},
   "outputs": [],
   "source": [
    "# test models. \n",
    "preds_rf = search_rf.predict(X_test)"
   ]
  },
  {
   "cell_type": "code",
   "execution_count": 23,
   "metadata": {},
   "outputs": [
    {
     "name": "stdout",
     "output_type": "stream",
     "text": [
      "Random Forest:\n",
      "              precision    recall  f1-score   support\n",
      "\n",
      "           0       0.96      0.99      0.98       973\n",
      "           1       0.99      0.96      0.97       972\n",
      "\n",
      "    accuracy                           0.98      1945\n",
      "   macro avg       0.98      0.98      0.98      1945\n",
      "weighted avg       0.98      0.98      0.98      1945\n",
      "\n"
     ]
    }
   ],
   "source": [
    "print(\"Random Forest:\")\n",
    "print(classification_report(y_test, preds_rf))  # 'Random Forest:',"
   ]
  },
  {
   "cell_type": "code",
   "execution_count": 24,
   "metadata": {},
   "outputs": [
    {
     "name": "stdout",
     "output_type": "stream",
     "text": [
      "Fitting 5 folds for each of 10 candidates, totalling 50 fits\n",
      "Fitting 5 folds for each of 10 candidates, totalling 50 fits\n",
      "Fitting 5 folds for each of 10 candidates, totalling 50 fits\n",
      "Fitting 5 folds for each of 10 candidates, totalling 50 fits\n",
      "Fitting 5 folds for each of 10 candidates, totalling 50 fits\n",
      "Fitting 5 folds for each of 10 candidates, totalling 50 fits\n",
      "Fitting 5 folds for each of 10 candidates, totalling 50 fits\n",
      "Fitting 5 folds for each of 10 candidates, totalling 50 fits\n",
      "Fitting 5 folds for each of 10 candidates, totalling 50 fits\n",
      "Fitting 5 folds for each of 10 candidates, totalling 50 fits\n",
      "[0.97327852 0.97019527 0.98353909 0.96604938 0.97016461 0.96193416\n",
      " 0.97736626 0.97427984 0.98045267 0.97222222]\n",
      "StratifiedKFold Mean Accuracy: 97.29 %\n"
     ]
    }
   ],
   "source": [
    "####  交叉验证\n",
    "sf = StratifiedKFold(n_splits = 10, random_state=0, shuffle = True)\n",
    "score_s=cross_val_score(search_rf, X, y, cv=sf)\n",
    "print(score_s)\n",
    "print(\"StratifiedKFold Mean Accuracy: {:.2f} %\".format(score_s.mean() * 100))"
   ]
  },
  {
   "cell_type": "code",
   "execution_count": 26,
   "metadata": {},
   "outputs": [
    {
     "name": "stdout",
     "output_type": "stream",
     "text": [
      "StratifiedKFold Mean Accuracy: 97.29 %\n"
     ]
    }
   ],
   "source": [
    "#print(score_s)\n",
    "print(\"StratifiedKFold Mean Accuracy: {:.2f} %\".format(score_s.mean() * 100))"
   ]
  },
  {
   "cell_type": "code",
   "execution_count": 28,
   "metadata": {},
   "outputs": [
    {
     "name": "stdout",
     "output_type": "stream",
     "text": [
      "                                 Features  Importance\n",
      "0                                     age    0.268048\n",
      "3                       avg_glucose_level    0.099936\n",
      "4                                     bmi    0.077468\n",
      "12          smoking_status_encode_Unknown    0.059556\n",
      "17           Residence_type_encoded_Urban    0.055911\n",
      "18                ever_married_encoded_No    0.055016\n",
      "14     smoking_status_encode_never smoked    0.049341\n",
      "16           Residence_type_encoded_Rural    0.049200\n",
      "13  smoking_status_encode_formerly smoked    0.039163\n",
      "15           smoking_status_encode_smokes    0.036943\n",
      "5                        gender_encoded_0    0.033776\n",
      "7              work_type_encoded_Govt_job    0.032250\n",
      "10        work_type_encoded_Self-employed    0.031560\n",
      "6                        gender_encoded_1    0.031226\n",
      "9               work_type_encoded_Private    0.029288\n",
      "19               ever_married_encoded_Yes    0.023660\n",
      "11             work_type_encoded_children    0.010181\n",
      "1                            hypertension    0.009103\n",
      "2                           heart_disease    0.008324\n",
      "8          work_type_encoded_Never_worked    0.000051\n"
     ]
    }
   ],
   "source": [
    "#  Random Forest\n",
    "rf.fit(X_train, y_train)\n",
    "features = X_train.columns # feature name\n",
    "feature_importances_rf = rf.feature_importances_ # feature importace \n",
    "features_df_rf = pd.DataFrame({'Features':features,'Importance':feature_importances_rf})\n",
    "features_df_rf.sort_values('Importance',inplace=True,ascending=False)\n",
    "print(features_df_rf)"
   ]
  },
  {
   "cell_type": "code",
   "execution_count": null,
   "metadata": {},
   "outputs": [],
   "source": []
  },
  {
   "cell_type": "code",
   "execution_count": null,
   "metadata": {},
   "outputs": [],
   "source": []
  }
 ],
 "metadata": {
  "kernelspec": {
   "display_name": "Python 3",
   "language": "python",
   "name": "python3"
  },
  "language_info": {
   "codemirror_mode": {
    "name": "ipython",
    "version": 3
   },
   "file_extension": ".py",
   "mimetype": "text/x-python",
   "name": "python",
   "nbconvert_exporter": "python",
   "pygments_lexer": "ipython3",
   "version": "3.8.3"
  },
  "toc": {
   "base_numbering": 1,
   "nav_menu": {},
   "number_sections": true,
   "sideBar": true,
   "skip_h1_title": false,
   "title_cell": "Table of Contents",
   "title_sidebar": "Contents",
   "toc_cell": false,
   "toc_position": {},
   "toc_section_display": true,
   "toc_window_display": false
  }
 },
 "nbformat": 4,
 "nbformat_minor": 4
}

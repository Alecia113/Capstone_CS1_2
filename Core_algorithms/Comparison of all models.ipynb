{
 "cells": [
  {
   "cell_type": "markdown",
   "id": "83bccf7c",
   "metadata": {},
   "source": [
    "#  Various packages"
   ]
  },
  {
   "cell_type": "code",
   "execution_count": 1,
   "id": "e9bab1c3",
   "metadata": {},
   "outputs": [],
   "source": [
    "import sys\n",
    "import numpy as np\n",
    "import pandas as pd \n",
    "import seaborn as sns\n",
    "\n",
    "import matplotlib.pyplot as plt\n",
    "\n",
    "#from numpy.core.umath_tests import inner1d\n",
    "# modelos\n",
    "\n",
    "from sklearn.svm import SVC\n",
    "from matplotlib import pyplot\n",
    "from collections import Counter\n",
    "from imblearn.pipeline import Pipeline\n",
    "from imblearn.over_sampling import SMOTE\n",
    "from sklearn.neighbors import KNeighborsClassifier\n",
    "from sklearn.linear_model import LogisticRegression\n",
    "from sklearn.model_selection import train_test_split\n",
    "from imblearn.under_sampling import RandomUnderSampler\n",
    "from sklearn.feature_selection import SelectKBest, f_classif\n",
    "\n",
    "from sklearn.ensemble import  ExtraTreesClassifier,VotingClassifier\n",
    "from sklearn.preprocessing import LabelEncoder, StandardScaler, OneHotEncoder\n",
    "from sklearn.metrics import classification_report, roc_curve, confusion_matrix\n",
    "from sklearn.ensemble import RandomForestClassifier, AdaBoostClassifier, GradientBoostingClassifier\n",
    "\n",
    "\n",
    "from sklearn.metrics import accuracy_score,roc_auc_score, f1_score,classification_report,precision_score,recall_score\n",
    "from sklearn.model_selection import cross_val_score,  RepeatedStratifiedKFold,RandomizedSearchCV, GridSearchCV\n",
    "\n"
   ]
  },
  {
   "cell_type": "markdown",
   "id": "047b70bc",
   "metadata": {},
   "source": [
    "# Importing data"
   ]
  },
  {
   "cell_type": "code",
   "execution_count": 2,
   "id": "daf944d1",
   "metadata": {},
   "outputs": [],
   "source": [
    "data = pd.read_csv('healthcare-dataset-stroke-data.csv')"
   ]
  },
  {
   "cell_type": "code",
   "execution_count": 3,
   "id": "8cc2f785",
   "metadata": {
    "scrolled": true
   },
   "outputs": [
    {
     "data": {
      "text/html": [
       "<div>\n",
       "<style scoped>\n",
       "    .dataframe tbody tr th:only-of-type {\n",
       "        vertical-align: middle;\n",
       "    }\n",
       "\n",
       "    .dataframe tbody tr th {\n",
       "        vertical-align: top;\n",
       "    }\n",
       "\n",
       "    .dataframe thead th {\n",
       "        text-align: right;\n",
       "    }\n",
       "</style>\n",
       "<table border=\"1\" class=\"dataframe\">\n",
       "  <thead>\n",
       "    <tr style=\"text-align: right;\">\n",
       "      <th></th>\n",
       "      <th>id</th>\n",
       "      <th>gender</th>\n",
       "      <th>age</th>\n",
       "      <th>hypertension</th>\n",
       "      <th>heart_disease</th>\n",
       "      <th>ever_married</th>\n",
       "      <th>work_type</th>\n",
       "      <th>Residence_type</th>\n",
       "      <th>avg_glucose_level</th>\n",
       "      <th>bmi</th>\n",
       "      <th>smoking_status</th>\n",
       "      <th>stroke</th>\n",
       "    </tr>\n",
       "  </thead>\n",
       "  <tbody>\n",
       "    <tr>\n",
       "      <th>0</th>\n",
       "      <td>9046</td>\n",
       "      <td>1</td>\n",
       "      <td>67.0</td>\n",
       "      <td>0</td>\n",
       "      <td>1</td>\n",
       "      <td>1</td>\n",
       "      <td>0</td>\n",
       "      <td>0</td>\n",
       "      <td>228.69</td>\n",
       "      <td>36.6</td>\n",
       "      <td>1</td>\n",
       "      <td>1</td>\n",
       "    </tr>\n",
       "    <tr>\n",
       "      <th>1</th>\n",
       "      <td>51676</td>\n",
       "      <td>0</td>\n",
       "      <td>61.0</td>\n",
       "      <td>0</td>\n",
       "      <td>0</td>\n",
       "      <td>1</td>\n",
       "      <td>1</td>\n",
       "      <td>1</td>\n",
       "      <td>202.21</td>\n",
       "      <td>0.0</td>\n",
       "      <td>0</td>\n",
       "      <td>1</td>\n",
       "    </tr>\n",
       "    <tr>\n",
       "      <th>2</th>\n",
       "      <td>31112</td>\n",
       "      <td>1</td>\n",
       "      <td>80.0</td>\n",
       "      <td>0</td>\n",
       "      <td>1</td>\n",
       "      <td>1</td>\n",
       "      <td>0</td>\n",
       "      <td>1</td>\n",
       "      <td>105.92</td>\n",
       "      <td>32.5</td>\n",
       "      <td>0</td>\n",
       "      <td>1</td>\n",
       "    </tr>\n",
       "    <tr>\n",
       "      <th>3</th>\n",
       "      <td>60182</td>\n",
       "      <td>0</td>\n",
       "      <td>49.0</td>\n",
       "      <td>0</td>\n",
       "      <td>0</td>\n",
       "      <td>1</td>\n",
       "      <td>0</td>\n",
       "      <td>0</td>\n",
       "      <td>171.23</td>\n",
       "      <td>34.4</td>\n",
       "      <td>2</td>\n",
       "      <td>1</td>\n",
       "    </tr>\n",
       "    <tr>\n",
       "      <th>4</th>\n",
       "      <td>1665</td>\n",
       "      <td>0</td>\n",
       "      <td>79.0</td>\n",
       "      <td>1</td>\n",
       "      <td>0</td>\n",
       "      <td>1</td>\n",
       "      <td>1</td>\n",
       "      <td>1</td>\n",
       "      <td>174.12</td>\n",
       "      <td>24.0</td>\n",
       "      <td>0</td>\n",
       "      <td>1</td>\n",
       "    </tr>\n",
       "  </tbody>\n",
       "</table>\n",
       "</div>"
      ],
      "text/plain": [
       "      id gender   age  hypertension  heart_disease  ever_married work_type  \\\n",
       "0   9046      1  67.0             0              1             1         0   \n",
       "1  51676      0  61.0             0              0             1         1   \n",
       "2  31112      1  80.0             0              1             1         0   \n",
       "3  60182      0  49.0             0              0             1         0   \n",
       "4   1665      0  79.0             1              0             1         1   \n",
       "\n",
       "   Residence_type  avg_glucose_level   bmi  smoking_status  stroke  \n",
       "0               0             228.69  36.6               1       1  \n",
       "1               1             202.21   0.0               0       1  \n",
       "2               1             105.92  32.5               0       1  \n",
       "3               0             171.23  34.4               2       1  \n",
       "4               1             174.12  24.0               0       1  "
      ]
     },
     "execution_count": 3,
     "metadata": {},
     "output_type": "execute_result"
    }
   ],
   "source": [
    "data.head(5)"
   ]
  },
  {
   "cell_type": "markdown",
   "id": "5ac39a28",
   "metadata": {},
   "source": [
    "# Pre-processing  "
   ]
  },
  {
   "cell_type": "code",
   "execution_count": 4,
   "id": "3a801fbe",
   "metadata": {},
   "outputs": [],
   "source": [
    "# Data1 : without id\n",
    "data = data.drop(['id'], axis=1)"
   ]
  },
  {
   "cell_type": "code",
   "execution_count": 5,
   "id": "1ddb3613",
   "metadata": {
    "scrolled": false
   },
   "outputs": [
    {
     "data": {
      "text/plain": [
       "gender               0\n",
       "age                  0\n",
       "hypertension         0\n",
       "heart_disease        0\n",
       "ever_married         0\n",
       "work_type            0\n",
       "Residence_type       0\n",
       "avg_glucose_level    0\n",
       "bmi                  0\n",
       "smoking_status       0\n",
       "stroke               0\n",
       "dtype: int64"
      ]
     },
     "execution_count": 5,
     "metadata": {},
     "output_type": "execute_result"
    }
   ],
   "source": [
    "data.isnull().sum()"
   ]
  },
  {
   "cell_type": "code",
   "execution_count": 6,
   "id": "2a88807b",
   "metadata": {
    "scrolled": false
   },
   "outputs": [
    {
     "data": {
      "text/plain": [
       "0               2925\n",
       "1                819\n",
       "children         687\n",
       "2                657\n",
       "Never_worked      22\n",
       "Name: work_type, dtype: int64"
      ]
     },
     "execution_count": 6,
     "metadata": {},
     "output_type": "execute_result"
    }
   ],
   "source": [
    "data.work_type.value_counts()"
   ]
  },
  {
   "cell_type": "code",
   "execution_count": 7,
   "id": "6f4611fd",
   "metadata": {},
   "outputs": [
    {
     "data": {
      "text/plain": [
       "age_mean\n",
       "1    20.317588\n",
       "2    27.889394\n",
       "3    30.359831\n",
       "4    30.363052\n",
       "5    27.220415\n",
       "Name: bmi, dtype: float64"
      ]
     },
     "execution_count": 7,
     "metadata": {},
     "output_type": "execute_result"
    }
   ],
   "source": [
    "label = [1,2,3,4,5]\n",
    "data[\"age_mean\"] = pd.cut(data[\"age\"], 5, labels = label)\n",
    "data[\"age_mean\"].value_counts()\n",
    "# Age stages were divided into five groups and the mean bmi was calculated separately\n",
    "bmi_group = data.groupby(\"age_mean\")[\"bmi\"].mean() \n",
    "bmi_group"
   ]
  },
  {
   "cell_type": "code",
   "execution_count": 8,
   "id": "ca3ab78e",
   "metadata": {},
   "outputs": [],
   "source": [
    "#Give bmi mean age-specific assignments\n",
    "def bmi_val(cols): \n",
    "    bmi = cols[0]\n",
    "    age_mean = cols[1]\n",
    "    \n",
    "    if pd.isnull(bmi):\n",
    "        if age_mean == 1:\n",
    "            return 20.7\n",
    "        elif age_mean == 2:\n",
    "            return 28.6\n",
    "        elif age_mean == 3:\n",
    "            return 31.4\n",
    "        elif age_mean == 4:\n",
    "            return 31.6\n",
    "        elif age_mean == 5:\n",
    "            return 29.4\n",
    "    else:\n",
    "        return bmi"
   ]
  },
  {
   "cell_type": "code",
   "execution_count": 9,
   "id": "a2651cc6",
   "metadata": {},
   "outputs": [],
   "source": [
    "data[\"bmi\"] = data[[\"bmi\",\"age_mean\"]].apply(bmi_val, axis=1)"
   ]
  },
  {
   "cell_type": "code",
   "execution_count": 10,
   "id": "ba5f0ad7",
   "metadata": {
    "scrolled": true
   },
   "outputs": [
    {
     "data": {
      "text/plain": [
       "gender               0\n",
       "age                  0\n",
       "hypertension         0\n",
       "heart_disease        0\n",
       "ever_married         0\n",
       "work_type            0\n",
       "Residence_type       0\n",
       "avg_glucose_level    0\n",
       "bmi                  0\n",
       "smoking_status       0\n",
       "stroke               0\n",
       "age_mean             0\n",
       "dtype: int64"
      ]
     },
     "execution_count": 10,
     "metadata": {},
     "output_type": "execute_result"
    }
   ],
   "source": [
    "data.isnull().sum() "
   ]
  },
  {
   "cell_type": "code",
   "execution_count": 11,
   "id": "f004c2d4",
   "metadata": {},
   "outputs": [],
   "source": [
    "#Change other to Female\n",
    "data.gender = data.gender.apply(lambda x: 0 \n",
    "                                if ((x == 'Female') or (x == 'Other')) \n",
    "                                else 1)"
   ]
  },
  {
   "cell_type": "code",
   "execution_count": 12,
   "id": "f2b29336",
   "metadata": {},
   "outputs": [
    {
     "data": {
      "text/plain": [
       "1    5109\n",
       "0       1\n",
       "Name: gender, dtype: int64"
      ]
     },
     "execution_count": 12,
     "metadata": {},
     "output_type": "execute_result"
    }
   ],
   "source": [
    "data.gender.value_counts()"
   ]
  },
  {
   "cell_type": "code",
   "execution_count": 13,
   "id": "d13c9659",
   "metadata": {
    "scrolled": true
   },
   "outputs": [
    {
     "data": {
      "text/plain": [
       "0       67\n",
       "1       61\n",
       "2       80\n",
       "3       49\n",
       "4       79\n",
       "        ..\n",
       "5105    80\n",
       "5106    81\n",
       "5107    35\n",
       "5108    51\n",
       "5109    44\n",
       "Name: age, Length: 5110, dtype: int64"
      ]
     },
     "execution_count": 13,
     "metadata": {},
     "output_type": "execute_result"
    }
   ],
   "source": [
    "data['age'] = data['age'].apply(lambda x: round(x))\n",
    "data['age']"
   ]
  },
  {
   "cell_type": "code",
   "execution_count": 14,
   "id": "177f2791",
   "metadata": {},
   "outputs": [
    {
     "data": {
      "text/plain": [
       "Index(['gender', 'age', 'hypertension', 'heart_disease', 'ever_married',\n",
       "       'work_type', 'Residence_type', 'avg_glucose_level', 'bmi',\n",
       "       'smoking_status', 'stroke', 'age_mean'],\n",
       "      dtype='object')"
      ]
     },
     "execution_count": 14,
     "metadata": {},
     "output_type": "execute_result"
    }
   ],
   "source": [
    "Feature = data.columns\n",
    "Feature"
   ]
  },
  {
   "cell_type": "markdown",
   "id": "c222d5b4",
   "metadata": {},
   "source": [
    "# Data type conversion"
   ]
  },
  {
   "cell_type": "code",
   "execution_count": 15,
   "id": "ce99dfda",
   "metadata": {},
   "outputs": [],
   "source": [
    "# transformer = ColumnTransformer(transformers=[('imp',SimpleImputer(strategy='median'),numerical),('o',OneHotEncoder(),categorical)])\n",
    "# pipeline = Pipeline(steps=[('t', transformer),('p',PowerTransformer(method='yeo-johnson')),('m', LR)])    \n",
    "# scores = evaluate_model(X, y, pipeline)\n",
    "# # results.append(scores)\n",
    "# # print('>%s %.3f (%.3f)' % (names[i], np.mean(scores), np.std(scores)))\n",
    "# scores"
   ]
  },
  {
   "cell_type": "code",
   "execution_count": 16,
   "id": "61fc9f1f",
   "metadata": {
    "scrolled": true
   },
   "outputs": [
    {
     "data": {
      "text/html": [
       "<div>\n",
       "<style scoped>\n",
       "    .dataframe tbody tr th:only-of-type {\n",
       "        vertical-align: middle;\n",
       "    }\n",
       "\n",
       "    .dataframe tbody tr th {\n",
       "        vertical-align: top;\n",
       "    }\n",
       "\n",
       "    .dataframe thead th {\n",
       "        text-align: right;\n",
       "    }\n",
       "</style>\n",
       "<table border=\"1\" class=\"dataframe\">\n",
       "  <thead>\n",
       "    <tr style=\"text-align: right;\">\n",
       "      <th></th>\n",
       "      <th>work_type</th>\n",
       "    </tr>\n",
       "  </thead>\n",
       "  <tbody>\n",
       "    <tr>\n",
       "      <th>0</th>\n",
       "      <td>0</td>\n",
       "    </tr>\n",
       "    <tr>\n",
       "      <th>1</th>\n",
       "      <td>1</td>\n",
       "    </tr>\n",
       "    <tr>\n",
       "      <th>2</th>\n",
       "      <td>0</td>\n",
       "    </tr>\n",
       "    <tr>\n",
       "      <th>3</th>\n",
       "      <td>0</td>\n",
       "    </tr>\n",
       "    <tr>\n",
       "      <th>4</th>\n",
       "      <td>1</td>\n",
       "    </tr>\n",
       "    <tr>\n",
       "      <th>...</th>\n",
       "      <td>...</td>\n",
       "    </tr>\n",
       "    <tr>\n",
       "      <th>5105</th>\n",
       "      <td>0</td>\n",
       "    </tr>\n",
       "    <tr>\n",
       "      <th>5106</th>\n",
       "      <td>1</td>\n",
       "    </tr>\n",
       "    <tr>\n",
       "      <th>5107</th>\n",
       "      <td>1</td>\n",
       "    </tr>\n",
       "    <tr>\n",
       "      <th>5108</th>\n",
       "      <td>0</td>\n",
       "    </tr>\n",
       "    <tr>\n",
       "      <th>5109</th>\n",
       "      <td>2</td>\n",
       "    </tr>\n",
       "  </tbody>\n",
       "</table>\n",
       "<p>5110 rows × 1 columns</p>\n",
       "</div>"
      ],
      "text/plain": [
       "     work_type\n",
       "0            0\n",
       "1            1\n",
       "2            0\n",
       "3            0\n",
       "4            1\n",
       "...        ...\n",
       "5105         0\n",
       "5106         1\n",
       "5107         1\n",
       "5108         0\n",
       "5109         2\n",
       "\n",
       "[5110 rows x 1 columns]"
      ]
     },
     "execution_count": 16,
     "metadata": {},
     "output_type": "execute_result"
    }
   ],
   "source": [
    "data.select_dtypes('object')"
   ]
  },
  {
   "cell_type": "markdown",
   "id": "b1e248b9",
   "metadata": {},
   "source": [
    "# The latest changes\n"
   ]
  },
  {
   "cell_type": "code",
   "execution_count": 17,
   "id": "af0fdf1f",
   "metadata": {},
   "outputs": [
    {
     "data": {
      "text/html": [
       "<div>\n",
       "<style scoped>\n",
       "    .dataframe tbody tr th:only-of-type {\n",
       "        vertical-align: middle;\n",
       "    }\n",
       "\n",
       "    .dataframe tbody tr th {\n",
       "        vertical-align: top;\n",
       "    }\n",
       "\n",
       "    .dataframe thead th {\n",
       "        text-align: right;\n",
       "    }\n",
       "</style>\n",
       "<table border=\"1\" class=\"dataframe\">\n",
       "  <thead>\n",
       "    <tr style=\"text-align: right;\">\n",
       "      <th></th>\n",
       "      <th>work_type</th>\n",
       "    </tr>\n",
       "  </thead>\n",
       "  <tbody>\n",
       "    <tr>\n",
       "      <th>0</th>\n",
       "      <td>0</td>\n",
       "    </tr>\n",
       "    <tr>\n",
       "      <th>1</th>\n",
       "      <td>1</td>\n",
       "    </tr>\n",
       "    <tr>\n",
       "      <th>2</th>\n",
       "      <td>0</td>\n",
       "    </tr>\n",
       "    <tr>\n",
       "      <th>3</th>\n",
       "      <td>0</td>\n",
       "    </tr>\n",
       "    <tr>\n",
       "      <th>4</th>\n",
       "      <td>1</td>\n",
       "    </tr>\n",
       "    <tr>\n",
       "      <th>...</th>\n",
       "      <td>...</td>\n",
       "    </tr>\n",
       "    <tr>\n",
       "      <th>5105</th>\n",
       "      <td>0</td>\n",
       "    </tr>\n",
       "    <tr>\n",
       "      <th>5106</th>\n",
       "      <td>1</td>\n",
       "    </tr>\n",
       "    <tr>\n",
       "      <th>5107</th>\n",
       "      <td>1</td>\n",
       "    </tr>\n",
       "    <tr>\n",
       "      <th>5108</th>\n",
       "      <td>0</td>\n",
       "    </tr>\n",
       "    <tr>\n",
       "      <th>5109</th>\n",
       "      <td>2</td>\n",
       "    </tr>\n",
       "  </tbody>\n",
       "</table>\n",
       "<p>5110 rows × 1 columns</p>\n",
       "</div>"
      ],
      "text/plain": [
       "     work_type\n",
       "0            0\n",
       "1            1\n",
       "2            0\n",
       "3            0\n",
       "4            1\n",
       "...        ...\n",
       "5105         0\n",
       "5106         1\n",
       "5107         1\n",
       "5108         0\n",
       "5109         2\n",
       "\n",
       "[5110 rows x 1 columns]"
      ]
     },
     "execution_count": 17,
     "metadata": {},
     "output_type": "execute_result"
    }
   ],
   "source": [
    "data.select_dtypes('object')"
   ]
  },
  {
   "cell_type": "code",
   "execution_count": 18,
   "id": "ce5777c9",
   "metadata": {},
   "outputs": [
    {
     "name": "stdout",
     "output_type": "stream",
     "text": [
      "0       1\n",
      "1       1\n",
      "2       1\n",
      "3       1\n",
      "4       1\n",
      "       ..\n",
      "5105    1\n",
      "5106    1\n",
      "5107    1\n",
      "5108    1\n",
      "5109    1\n",
      "Name: ever_married, Length: 5110, dtype: int64\n"
     ]
    }
   ],
   "source": [
    "for i in range(len(data.ever_married)):\n",
    "    if data.ever_married[i] == 'Yes':\n",
    "        data.ever_married[i] = 1\n",
    "    elif data.ever_married[i] == 'No':\n",
    "        data.ever_married[i] = 0\n",
    "print(data.ever_married)"
   ]
  },
  {
   "cell_type": "markdown",
   "id": "5e402875",
   "metadata": {},
   "source": [
    "## Work_type"
   ]
  },
  {
   "cell_type": "code",
   "execution_count": 19,
   "id": "afff6cd2",
   "metadata": {},
   "outputs": [
    {
     "name": "stdout",
     "output_type": "stream",
     "text": [
      "0       0\n",
      "1       1\n",
      "2       0\n",
      "3       0\n",
      "4       1\n",
      "       ..\n",
      "5105    0\n",
      "5106    1\n",
      "5107    1\n",
      "5108    0\n",
      "5109    2\n",
      "Name: work_type, Length: 5110, dtype: object"
     ]
    },
    {
     "name": "stderr",
     "output_type": "stream",
     "text": [
      "<ipython-input-19-1b13aa098b83>:7: SettingWithCopyWarning: \n",
      "A value is trying to be set on a copy of a slice from a DataFrame\n",
      "\n",
      "See the caveats in the documentation: https://pandas.pydata.org/pandas-docs/stable/user_guide/indexing.html#returning-a-view-versus-a-copy\n",
      "  data.work_type[i] = 2\n",
      "<ipython-input-19-1b13aa098b83>:11: SettingWithCopyWarning: \n",
      "A value is trying to be set on a copy of a slice from a DataFrame\n",
      "\n",
      "See the caveats in the documentation: https://pandas.pydata.org/pandas-docs/stable/user_guide/indexing.html#returning-a-view-versus-a-copy\n",
      "  data.work_type[i] = 4\n"
     ]
    },
    {
     "name": "stdout",
     "output_type": "stream",
     "text": [
      "\n"
     ]
    }
   ],
   "source": [
    "for i in range(len(data.work_type)):\n",
    "    if data.work_type[i] == 'Private':\n",
    "        data.work_type[i] = 0\n",
    "    elif data.work_type[i] == 'Self-employed':\n",
    "        data.work_type[i] = 1\n",
    "    elif data.work_type[i] == 'children':\n",
    "        data.work_type[i] = 2\n",
    "    elif data.work_type[i] == 'Govt_job':\n",
    "        data.work_type[i] = 3\n",
    "    elif data.work_type[i] == 'Never_worked':\n",
    "        data.work_type[i] = 4\n",
    "        \n",
    "print(data.work_type)"
   ]
  },
  {
   "cell_type": "markdown",
   "id": "95a6536f",
   "metadata": {},
   "source": [
    "## Residence_type"
   ]
  },
  {
   "cell_type": "code",
   "execution_count": 20,
   "id": "fb802c69",
   "metadata": {},
   "outputs": [
    {
     "name": "stdout",
     "output_type": "stream",
     "text": [
      "0       0\n",
      "1       1\n",
      "2       1\n",
      "3       0\n",
      "4       1\n",
      "       ..\n",
      "5105    0\n",
      "5106    0\n",
      "5107    1\n",
      "5108    1\n",
      "5109    0\n",
      "Name: Residence_type, Length: 5110, dtype: int64\n"
     ]
    }
   ],
   "source": [
    "for i in range(len(data.Residence_type)):\n",
    "    if data.Residence_type[i] == 'Urban':\n",
    "        data.Residence_type[i] = 0\n",
    "    elif data.Residence_type[i] == 'Rural':\n",
    "        data.Residence_type[i] = 1\n",
    "\n",
    "print(data.Residence_type)"
   ]
  },
  {
   "cell_type": "markdown",
   "id": "803b46b0",
   "metadata": {},
   "source": [
    "## \tSmoking_status"
   ]
  },
  {
   "cell_type": "code",
   "execution_count": 21,
   "id": "f159b387",
   "metadata": {},
   "outputs": [
    {
     "name": "stdout",
     "output_type": "stream",
     "text": [
      "0       1\n",
      "1       0\n",
      "2       0\n",
      "3       2\n",
      "4       0\n",
      "       ..\n",
      "5105    0\n",
      "5106    0\n",
      "5107    0\n",
      "5108    1\n",
      "5109    3\n",
      "Name: smoking_status, Length: 5110, dtype: int64\n"
     ]
    }
   ],
   "source": [
    "for i in range(len(data.smoking_status)):\n",
    "    if data.smoking_status[i] == 'never smoked':\n",
    "        data.smoking_status[i] = 0\n",
    "    elif data.smoking_status[i] == 'Unknown':\n",
    "        data.smoking_status[i] = 1\n",
    "    elif data.smoking_status[i] == 'formerly smoked':\n",
    "        data.smoking_status[i] = 2\n",
    "    elif data.smoking_status[i] == 'smokes':\n",
    "        data.smoking_status[i] = 3       \n",
    "print(data.smoking_status)"
   ]
  },
  {
   "cell_type": "code",
   "execution_count": 22,
   "id": "0ac78d0d",
   "metadata": {},
   "outputs": [],
   "source": [
    "X = data.drop(columns=['stroke','age_mean'])\n",
    "y = data['stroke']"
   ]
  },
  {
   "cell_type": "code",
   "execution_count": 23,
   "id": "7d4ffa9e",
   "metadata": {
    "scrolled": false
   },
   "outputs": [
    {
     "data": {
      "text/plain": [
       "gender               0\n",
       "age                  0\n",
       "hypertension         0\n",
       "heart_disease        0\n",
       "ever_married         0\n",
       "work_type            0\n",
       "Residence_type       0\n",
       "avg_glucose_level    0\n",
       "bmi                  0\n",
       "smoking_status       0\n",
       "dtype: int64"
      ]
     },
     "execution_count": 23,
     "metadata": {},
     "output_type": "execute_result"
    }
   ],
   "source": [
    "X.isnull().sum() "
   ]
  },
  {
   "cell_type": "code",
   "execution_count": 24,
   "id": "f69abdb3",
   "metadata": {},
   "outputs": [],
   "source": [
    "smote=SMOTE(random_state=42)\n",
    "x_smote,y_smote=smote.fit_resample(X,y)"
   ]
  },
  {
   "cell_type": "code",
   "execution_count": 25,
   "id": "6cbb9e48",
   "metadata": {},
   "outputs": [],
   "source": [
    "X_train,X_test, y_train,y_test=train_test_split(x_smote,y_smote,test_size=0.33,random_state=42)\n",
    "X_valid, X_test, y_valid, y_test = train_test_split(X_test, y_test, test_size=0.5, random_state=42)"
   ]
  },
  {
   "cell_type": "code",
   "execution_count": 26,
   "id": "d585a361",
   "metadata": {},
   "outputs": [],
   "source": [
    "# Rescaling Data\n",
    "sc= StandardScaler()\n",
    "X_train = sc.fit_transform(X_train)\n",
    "X_test = sc.transform(X_test)"
   ]
  },
  {
   "cell_type": "code",
   "execution_count": 27,
   "id": "7c30d46f",
   "metadata": {},
   "outputs": [
    {
     "name": "stdout",
     "output_type": "stream",
     "text": [
      "False\n",
      "False\n"
     ]
    }
   ],
   "source": [
    "for i in range(len(X_train)):\n",
    "    sample= X_train[i]\n",
    "    for j in range(len(sample)):\n",
    "        if np.isnan(sample[j]):\n",
    "            sample[j]=0 \n",
    "\n",
    "print(np.isnan(X_train).any())\n",
    "            \n",
    "for i in range(len(X_test)):\n",
    "    sample= X_test[i]\n",
    "    for j in range(len(sample)):\n",
    "        if np.isnan(sample[j]):\n",
    "            sample[j]=0 \n",
    "print(np.isnan(X_test).any())"
   ]
  },
  {
   "cell_type": "code",
   "execution_count": 49,
   "id": "b3db3877",
   "metadata": {},
   "outputs": [
    {
     "name": "stdout",
     "output_type": "stream",
     "text": [
      "0.773208722741433\n",
      "[[586 217]\n",
      " [147 655]]\n",
      "              precision    recall  f1-score   support\n",
      "\n",
      "           0       0.80      0.73      0.76       803\n",
      "           1       0.75      0.82      0.78       802\n",
      "\n",
      "    accuracy                           0.77      1605\n",
      "   macro avg       0.78      0.77      0.77      1605\n",
      "weighted avg       0.78      0.77      0.77      1605\n",
      "\n"
     ]
    }
   ],
   "source": [
    "# NB have smote\n",
    "from sklearn.naive_bayes import BernoulliNB\n",
    "NB=BernoulliNB()\n",
    "NB.fit(X_train,y_train)\n",
    "predict_results=NB.predict(X_test)\n",
    "print(accuracy_score(predict_results, y_test))\n",
    "conf_mat = confusion_matrix(y_test, predict_results)\n",
    "print(conf_mat)\n",
    "print(classification_report(y_test, predict_results))\n"
   ]
  },
  {
   "cell_type": "code",
   "execution_count": 52,
   "id": "b696ba81",
   "metadata": {
    "scrolled": true
   },
   "outputs": [
    {
     "name": "stdout",
     "output_type": "stream",
     "text": [
      "[[ 0.05969336  1.93506517 -0.29407032 -0.24782297 -0.34732426 -0.17012681\n",
      "  -0.56559187  0.40188952 -0.23537644 -0.31702504]]\n"
     ]
    }
   ],
   "source": [
    "#LR\n",
    "LR=LogisticRegression()\n",
    "LR.fit(X_train,y_train)\n",
    "#Important features of the model\n",
    "n=LR.coef_\n",
    "print(n)\n",
    "y_pred=LR.predict(X_test)\n",
    "# print(y_pred)"
   ]
  },
  {
   "cell_type": "code",
   "execution_count": 30,
   "id": "3a3f094d",
   "metadata": {
    "scrolled": false
   },
   "outputs": [
    {
     "name": "stdout",
     "output_type": "stream",
     "text": [
      "              precision    recall  f1-score   support\n",
      "\n",
      "           0       0.81      0.79      0.80       803\n",
      "           1       0.80      0.82      0.81       802\n",
      "\n",
      "    accuracy                           0.81      1605\n",
      "   macro avg       0.81      0.81      0.81      1605\n",
      "weighted avg       0.81      0.81      0.81      1605\n",
      "\n"
     ]
    }
   ],
   "source": [
    "class_report=classification_report(y_test,y_pred)\n",
    "print(class_report)"
   ]
  },
  {
   "cell_type": "code",
   "execution_count": 53,
   "id": "3b8f2550",
   "metadata": {
    "scrolled": true
   },
   "outputs": [
    {
     "name": "stdout",
     "output_type": "stream",
     "text": [
      "Fitting 5 folds for each of 4 candidates, totalling 20 fits\n",
      "              precision    recall  f1-score   support\n",
      "\n",
      "           0       0.87      0.82      0.84       803\n",
      "           1       0.83      0.88      0.85       802\n",
      "\n",
      "    accuracy                           0.85      1605\n",
      "   macro avg       0.85      0.85      0.85      1605\n",
      "weighted avg       0.85      0.85      0.85      1605\n",
      "\n"
     ]
    }
   ],
   "source": [
    "#Select the most accurate kernels of SVC\n",
    "kernels = ['rbf','linear','poly','sigmoid']\n",
    "model = SVC()\n",
    "hyperparam = [{'kernel':kernels}]\n",
    "model = GridSearchCV(SVC(),hyperparam,cv=5,verbose=1)\n",
    "best_model=model.fit(X_train,y_train)\n",
    "pre_svc = best_model.best_estimator_.predict(X_test)\n",
    "\n",
    "model1 = SVC(kernel = 'linear')\n",
    "model1.fit(X_train, y_train)\n",
    "# pre_svc = model1.predict(X_test)\n",
    "print(classification_report(y_test, pre_svc))"
   ]
  },
  {
   "cell_type": "code",
   "execution_count": 32,
   "id": "a991070d",
   "metadata": {},
   "outputs": [],
   "source": [
    "# #using smote\n",
    "# f1_NB = f1_score(y_test, predict_results,average='macro') \n",
    "# print(f1_NB)\n",
    "# f1_LR = f1_score(y_test, y_pred,average='macro') \n",
    "# print(f1_LR)\n",
    "# f1_SVM = f1_score(y_test, pre_svc,average='macro') \n",
    "# print(f1_SVM)"
   ]
  },
  {
   "cell_type": "code",
   "execution_count": 54,
   "id": "837f16d3",
   "metadata": {},
   "outputs": [
    {
     "name": "stdout",
     "output_type": "stream",
     "text": [
      "Fitting 5 folds for each of 10 candidates, totalling 50 fits\n"
     ]
    }
   ],
   "source": [
    "# Initialization RandomForest algorithm (find the best parameters)\n",
    "rf = RandomForestClassifier()\n",
    "\n",
    "n_estimators = [100,500,700,1000]\n",
    "max_depth = [int(x) for x in np.linspace(10, 110, num = 11)]\n",
    "max_depth.append(None)\n",
    "min_samples_split = [2, 5, 10]\n",
    "min_samples_leaf = [1, 2, 4]\n",
    "bootstrap = [True, False]\n",
    "\n",
    "grid =         {'n_estimators': n_estimators,\n",
    "               'max_depth': max_depth,\n",
    "               'min_samples_split': min_samples_split,\n",
    "               'min_samples_leaf': min_samples_leaf,\n",
    "               'bootstrap': bootstrap}\n",
    "\n",
    "search_rf = RandomizedSearchCV(estimator = rf, param_distributions = grid, cv = 5, verbose=1, n_jobs=-1)\n",
    "# training dataset, construct model\n",
    "search_rf.fit(X_train, y_train)\n",
    "# test models. \n",
    "preds_rf = search_rf.predict(X_test)"
   ]
  },
  {
   "cell_type": "code",
   "execution_count": 34,
   "id": "c8bb5ab4",
   "metadata": {
    "scrolled": true
   },
   "outputs": [
    {
     "name": "stdout",
     "output_type": "stream",
     "text": [
      "Random Forest:\n",
      "              precision    recall  f1-score   support\n",
      "\n",
      "           0       0.95      0.96      0.95       803\n",
      "           1       0.96      0.95      0.95       802\n",
      "\n",
      "    accuracy                           0.95      1605\n",
      "   macro avg       0.95      0.95      0.95      1605\n",
      "weighted avg       0.95      0.95      0.95      1605\n",
      "\n"
     ]
    }
   ],
   "source": [
    "# result of RF on SMOTE dataset\n",
    "print(\"Random Forest:\")\n",
    "print(classification_report(y_test, preds_rf))  # 'Random Forest:',"
   ]
  },
  {
   "cell_type": "code",
   "execution_count": 55,
   "id": "e7601755",
   "metadata": {},
   "outputs": [
    {
     "name": "stdout",
     "output_type": "stream",
     "text": [
      "0.7727887918160097\n",
      "0.8055741921055573\n",
      "0.8465974257678094\n",
      "0.9532707377963353\n"
     ]
    }
   ],
   "source": [
    "#using smote\n",
    "f1_NB = f1_score(y_test, predict_results,average='macro') \n",
    "print(f1_NB)\n",
    "f1_LR = f1_score(y_test, y_pred,average='macro') \n",
    "print(f1_LR)\n",
    "f1_SVM = f1_score(y_test, pre_svc,average='macro') \n",
    "print(f1_SVM)\n",
    "f1_RF = f1_score(y_test, preds_rf,average='macro') \n",
    "print(f1_RF)"
   ]
  },
  {
   "cell_type": "markdown",
   "id": "a00532ce",
   "metadata": {},
   "source": [
    "# Smote"
   ]
  },
  {
   "cell_type": "code",
   "execution_count": 36,
   "id": "ca3a6e28",
   "metadata": {
    "scrolled": true
   },
   "outputs": [],
   "source": [
    "# m=NB.coef_\n",
    "# print(m)\n",
    "# import matplotlib.pyplot as plt\n",
    "# #The horizontal coordinate is the class. The vertical is n\n",
    "# # len(n[0])--16\n",
    "# plt.figure(figsize=(21,10))\n",
    "# # plt.subplot(121)\n",
    "# plt.bar(X.columns,m[0])\n",
    "# plt.title('import features')\n",
    "# plt.show()\n"
   ]
  },
  {
   "cell_type": "code",
   "execution_count": 37,
   "id": "5acf2df4",
   "metadata": {},
   "outputs": [],
   "source": [
    "X_train_1,X_test_1, y_train_1,y_test_1=train_test_split(X,y,test_size=0.33,random_state=42)"
   ]
  },
  {
   "cell_type": "code",
   "execution_count": 38,
   "id": "c9e8ecb2",
   "metadata": {
    "scrolled": true
   },
   "outputs": [
    {
     "name": "stdout",
     "output_type": "stream",
     "text": [
      "0.939537640782454\n",
      "[[1584    7]\n",
      " [  95    1]]\n",
      "              precision    recall  f1-score   support\n",
      "\n",
      "           0       0.94      1.00      0.97      1591\n",
      "           1       0.12      0.01      0.02        96\n",
      "\n",
      "    accuracy                           0.94      1687\n",
      "   macro avg       0.53      0.50      0.49      1687\n",
      "weighted avg       0.90      0.94      0.91      1687\n",
      "\n"
     ]
    }
   ],
   "source": [
    "# NB no smote\n",
    "from sklearn.naive_bayes import BernoulliNB\n",
    "NB1=BernoulliNB()\n",
    "NB1.fit(X_train_1,y_train_1)\n",
    "predict_results=NB1.predict(X_test_1)\n",
    "print(accuracy_score(predict_results, y_test_1))\n",
    "conf_mat = confusion_matrix(y_test_1, predict_results)\n",
    "print(conf_mat)\n",
    "print(classification_report(y_test_1, predict_results))\n"
   ]
  },
  {
   "cell_type": "code",
   "execution_count": 39,
   "id": "4012ab69",
   "metadata": {
    "scrolled": false
   },
   "outputs": [],
   "source": [
    "# n=NB1.coef_\n",
    "# print(n)\n",
    "# import matplotlib.pyplot as plt\n",
    "# #The horizontal coordinate is the class. The vertical is n\n",
    "# # len(n[0])--16\n",
    "# plt.figure(figsize=(21,10))\n",
    "# # plt.subplot(121)\n",
    "# plt.bar(X.columns,n[0])\n",
    "# plt.title('import features')\n",
    "# plt.show()\n"
   ]
  },
  {
   "cell_type": "code",
   "execution_count": 40,
   "id": "14ee969d",
   "metadata": {},
   "outputs": [
    {
     "name": "stdout",
     "output_type": "stream",
     "text": [
      "[[-2.71628847  0.06517718  0.45895967  0.3676914  -0.67261444 -0.20116053\n",
      "  -0.03371364  0.00416453 -0.03884263  0.00603218]]\n"
     ]
    },
    {
     "name": "stderr",
     "output_type": "stream",
     "text": [
      "/opt/anaconda3/lib/python3.8/site-packages/sklearn/linear_model/_logistic.py:763: ConvergenceWarning: lbfgs failed to converge (status=1):\n",
      "STOP: TOTAL NO. of ITERATIONS REACHED LIMIT.\n",
      "\n",
      "Increase the number of iterations (max_iter) or scale the data as shown in:\n",
      "    https://scikit-learn.org/stable/modules/preprocessing.html\n",
      "Please also refer to the documentation for alternative solver options:\n",
      "    https://scikit-learn.org/stable/modules/linear_model.html#logistic-regression\n",
      "  n_iter_i = _check_optimize_result(\n"
     ]
    }
   ],
   "source": [
    "#LR\n",
    "LR=LogisticRegression()\n",
    "LR.fit(X_train_1,y_train_1)\n",
    "#Important features of the model\n",
    "n=LR.coef_\n",
    "print(n)\n",
    "y_pred=LR.predict(X_test_1)\n",
    "# print(y_pred)"
   ]
  },
  {
   "cell_type": "code",
   "execution_count": 41,
   "id": "8d2d27ad",
   "metadata": {
    "scrolled": true
   },
   "outputs": [
    {
     "name": "stdout",
     "output_type": "stream",
     "text": [
      "              precision    recall  f1-score   support\n",
      "\n",
      "           0       0.94      1.00      0.97      1591\n",
      "           1       0.12      0.01      0.02        96\n",
      "\n",
      "    accuracy                           0.94      1687\n",
      "   macro avg       0.53      0.50      0.49      1687\n",
      "weighted avg       0.90      0.94      0.91      1687\n",
      "\n"
     ]
    }
   ],
   "source": [
    "class_report=classification_report(y_test_1,predict_results)\n",
    "print(class_report)"
   ]
  },
  {
   "cell_type": "code",
   "execution_count": 42,
   "id": "5b3e2a58",
   "metadata": {},
   "outputs": [
    {
     "name": "stdout",
     "output_type": "stream",
     "text": [
      "Fitting 5 folds for each of 4 candidates, totalling 20 fits\n",
      "              precision    recall  f1-score   support\n",
      "\n",
      "           0       0.94      1.00      0.97      1591\n",
      "           1       0.00      0.00      0.00        96\n",
      "\n",
      "    accuracy                           0.94      1687\n",
      "   macro avg       0.47      0.50      0.49      1687\n",
      "weighted avg       0.89      0.94      0.92      1687\n",
      "\n"
     ]
    },
    {
     "name": "stderr",
     "output_type": "stream",
     "text": [
      "/opt/anaconda3/lib/python3.8/site-packages/sklearn/metrics/_classification.py:1245: UndefinedMetricWarning: Precision and F-score are ill-defined and being set to 0.0 in labels with no predicted samples. Use `zero_division` parameter to control this behavior.\n",
      "  _warn_prf(average, modifier, msg_start, len(result))\n",
      "/opt/anaconda3/lib/python3.8/site-packages/sklearn/metrics/_classification.py:1245: UndefinedMetricWarning: Precision and F-score are ill-defined and being set to 0.0 in labels with no predicted samples. Use `zero_division` parameter to control this behavior.\n",
      "  _warn_prf(average, modifier, msg_start, len(result))\n",
      "/opt/anaconda3/lib/python3.8/site-packages/sklearn/metrics/_classification.py:1245: UndefinedMetricWarning: Precision and F-score are ill-defined and being set to 0.0 in labels with no predicted samples. Use `zero_division` parameter to control this behavior.\n",
      "  _warn_prf(average, modifier, msg_start, len(result))\n"
     ]
    }
   ],
   "source": [
    "#Select the most accurate kernels of SVC\n",
    "kernels = ['rbf','linear','poly','sigmoid']\n",
    "model = SVC()\n",
    "hyperparam = [{'kernel':kernels}]\n",
    "model = GridSearchCV(SVC(),hyperparam,cv=5,verbose=1)\n",
    "best_model=model.fit(X_train_1,y_train_1)\n",
    "pre_svc_1 = best_model.best_estimator_.predict(X_test_1)\n",
    "\n",
    "\n",
    "print(classification_report(y_test_1, pre_svc_1))"
   ]
  },
  {
   "cell_type": "code",
   "execution_count": 43,
   "id": "e243cf85",
   "metadata": {},
   "outputs": [
    {
     "name": "stdout",
     "output_type": "stream",
     "text": [
      "              precision    recall  f1-score   support\n",
      "\n",
      "           0       0.95      0.78      0.86      1591\n",
      "           1       0.08      0.30      0.12        96\n",
      "\n",
      "    accuracy                           0.75      1687\n",
      "   macro avg       0.51      0.54      0.49      1687\n",
      "weighted avg       0.90      0.75      0.81      1687\n",
      "\n"
     ]
    }
   ],
   "source": [
    "#  Random Forest\n",
    "rf.fit(X_train_1, y_train_1)\n",
    "preds_rf_or = search_rf.predict(X_test_1)\n",
    "\n",
    "print(classification_report(y_test_1, preds_rf_or))  # 'Random Forest:',"
   ]
  },
  {
   "cell_type": "code",
   "execution_count": 44,
   "id": "a558efe6",
   "metadata": {},
   "outputs": [],
   "source": [
    "# #whole\n",
    "# from sklearn.metrics import f1_score\n",
    "# #print(classification_report(label_test, predicted2.cpu().numpy(),digits=4))\n",
    "# f1 = f1_score(y_test_1, predict_results,average='macro') \n",
    "# print(f1)\n",
    "# from sklearn.metrics import accuracy_score\n",
    "# #print(classification_report(label_test, predicted2.cpu().numpy(),digits=4))\n",
    "# accuracy1 = accuracy_score(y_test_1, predict_results) \n",
    "# print(accuracy1)"
   ]
  },
  {
   "cell_type": "code",
   "execution_count": 56,
   "id": "e289c719",
   "metadata": {},
   "outputs": [],
   "source": [
    "# #using smote\n",
    "# f1_NB = f1_score(y_test, predict_results) \n",
    "# print(f1_NB)\n",
    "# f1_LR = f1_score(y_test, y_pred) \n",
    "# print(f1_LR)\n",
    "# f1_SVM = f1_score(y_test, pre_svc) \n",
    "# print(f1_SVM)\n",
    "# f1_RF = f1_score(y_test, preds_rf) \n",
    "# print(f1_RF)"
   ]
  },
  {
   "cell_type": "code",
   "execution_count": 57,
   "id": "dfdd9636",
   "metadata": {},
   "outputs": [
    {
     "data": {
      "text/plain": [
       "<matplotlib.legend.Legend at 0x7fb104531d60>"
      ]
     },
     "execution_count": 57,
     "metadata": {},
     "output_type": "execute_result"
    },
    {
     "data": {
      "image/png": "[encoded data removed]",
      "text/plain": [
       "<Figure size 1800x432 with 1 Axes>"
      ]
     },
     "metadata": {
      "needs_background": "light"
     },
     "output_type": "display_data"
    }
   ],
   "source": [
    "plt.figure(figsize=[25,6])\n",
    "plt.tick_params(labelsize=14)\n",
    "xx = ['NB','LR','SVM','RF']\n",
    "yy = [f1_NB,f1_LR,f1_SVM,f1_RF]\n",
    "plt.plot(xx, yy, label = 'F1-Score')\n",
    "plt.xlabel('Models')\n",
    "plt.ylabel('F1-Score')\n",
    "plt.legend()"
   ]
  }
 ],
 "metadata": {
  "kernelspec": {
   "display_name": "Python 3",
   "language": "python",
   "name": "python3"
  },
  "language_info": {
   "codemirror_mode": {
    "name": "ipython",
    "version": 3
   },
   "file_extension": ".py",
   "mimetype": "text/x-python",
   "name": "python",
   "nbconvert_exporter": "python",
   "pygments_lexer": "ipython3",
   "version": "3.8.8"
  }
 },
 "nbformat": 4,
 "nbformat_minor": 5
}

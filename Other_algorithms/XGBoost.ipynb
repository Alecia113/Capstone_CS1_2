{
 "cells": [
  {
   "cell_type": "code",
   "execution_count": 2,
   "id": "b33ccd33",
   "metadata": {},
   "outputs": [],
   "source": [
    "import warnings\n",
    "import numpy as np\n",
    "import pandas as pd\n",
    
    "warnings.filterwarnings('ignore')\n",
    
    "from xgboost import XGBClassifier\n",
    "from imblearn.over_sampling import SMOTE\n",
    "from sklearn.preprocessing import LabelEncoder",
    "from sklearn.compose import ColumnTransformer\n",
    "from sklearn.preprocessing import OneHotEncoder\n",
    "from sklearn.model_selection import train_test_split\n",
    "from sklearn.metrics import accuracy_score,confusion_matrix,roc_auc_score,classification_report\n"
   ]
  },
  {
   "cell_type": "code",
   "execution_count": 3,
   "id": "b4b3a694",
   "metadata": {},
   "outputs": [
    {
     "name": "stdout",
     "output_type": "stream",
     "text": [
      "              precision    recall  f1-score   support\n",
      "\n",
      "           0       0.95      1.00      0.97       968\n",
      "           1       0.57      0.07      0.13        54\n",
      "\n",
      "    accuracy                           0.95      1022\n",
      "   macro avg       0.76      0.54      0.55      1022\n",
      "weighted avg       0.93      0.95      0.93      1022\n",
      "\n",
      "ROC AUC score: 0.785563973063973\n",
      "Accuracy Score:  0.9481409001956947\n"
     ]
    }
   ],
   "source": [
    "df = pd.read_csv('healthcare-dataset-stroke-data.csv')\n",
    "df.bmi.replace(to_replace=np.nan, value=df.bmi.mean(),inplace=True)\n",
    "x = df.iloc[:,1:-1].values\n",
    "y = df.iloc[:,-1].values\n",
    "ct = ColumnTransformer(transformers=[('encoder',OneHotEncoder(),[0,5,9])],remainder='passthrough')\n",
    "x = np.array(ct.fit_transform(x))\n",
    "le = LabelEncoder()\n",
    "x[:, 15] = le.fit_transform(x[:, 15])\n",
    "x[:, 16] = le.fit_transform(x[:, 16])\n",
    "X_train,X_test,y_train,y_test = train_test_split(x,y,test_size=0.2,random_state=0)\n",
    "sm = SMOTE(random_state=2)\n",
    "X_train_res, y_train_res = sm.fit_resample(X_train,y_train.ravel())\n",
    "\n",
    "classifier = XGBClassifier(eval_metric= 'error', learning_rate= 0.1)\n",
    "classifier.fit(X_train_res, y_train_res)\n",
    "y_pred = classifier.predict(X_test)\n",
    "y_prob = classifier.predict_proba(X_test)[:,1]\n",
    "cm = confusion_matrix(y_test, y_pred)\n",
    "\n",
    "print(classification_report(y_test, y_pred))\n",
    "print(f'ROC AUC score: {roc_auc_score(y_test, y_prob)}')\n",
    "print('Accuracy Score: ',accuracy_score(y_test, y_pred))"
   ]
  }
 ],
 "metadata": {
  "kernelspec": {
   "display_name": "Python 3",
   "language": "python",
   "name": "python3"
  },
  "language_info": {
   "codemirror_mode": {
    "name": "ipython",
    "version": 3
   },
   "file_extension": ".py",
   "mimetype": "text/x-python",
   "name": "python",
   "nbconvert_exporter": "python",
   "pygments_lexer": "ipython3",
   "version": "3.8.8"
  }
 },
 "nbformat": 4,
 "nbformat_minor": 5
}

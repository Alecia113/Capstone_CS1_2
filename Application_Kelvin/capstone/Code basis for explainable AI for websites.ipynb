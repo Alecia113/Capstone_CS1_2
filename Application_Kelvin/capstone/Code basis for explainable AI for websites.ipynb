{
 "cells": [
  {
   "cell_type": "code",
   "execution_count": 1,
   "metadata": {},
   "outputs": [],
   "source": [
    "import pandas as pd\n",
    "import numpy as np\n",
    "import matplotlib.pyplot as plt\n",
    "import matplotlib as matplot\n",
    "import seaborn as sns\n",
    "%matplotlib inline"
   ]
  },
  {
   "cell_type": "code",
   "execution_count": 2,
   "metadata": {},
   "outputs": [],
   "source": [
    "# Read data into Pandas Dataframe \"df\"\n",
    "df = pd.read_csv('healthcare-dataset-stroke-data.csv', index_col=None)"
   ]
  },
  {
   "cell_type": "code",
   "execution_count": 3,
   "metadata": {},
   "outputs": [],
   "source": [
    "#Interpolated data\n",
    "df.loc[:,\"bmi\"] = df.loc[:,\"bmi\"].fillna(df.loc[:,\"bmi\"].median())\n",
    "df.dropna(axis=0,inplace=True)"
   ]
  },
  {
   "cell_type": "code",
   "execution_count": 4,
   "metadata": {},
   "outputs": [],
   "source": [
    "#Put the prediction label ‘whether stroke’ in the first column\n",
    "front = df['stroke']\n",
    "df.drop(labels=['stroke'], axis=1, inplace = True)\n",
    "df.insert(0, 'stroke', front)"
   ]
  },
  {
   "cell_type": "code",
   "execution_count": 5,
   "metadata": {},
   "outputs": [
    {
     "data": {
      "text/plain": [
       "(5110, 12)"
      ]
     },
     "execution_count": 5,
     "metadata": {},
     "output_type": "execute_result"
    }
   ],
   "source": [
    "#A total of 5110 samples, each sample contains 12 features\n",
    "df.shape"
   ]
  },
  {
   "cell_type": "code",
   "execution_count": 6,
   "metadata": {},
   "outputs": [
    {
     "data": {
      "text/plain": [
       "stroke                 int64\n",
       "id                     int64\n",
       "gender                object\n",
       "age                  float64\n",
       "hypertension           int64\n",
       "heart_disease          int64\n",
       "ever_married          object\n",
       "work_type             object\n",
       "Residence_type        object\n",
       "avg_glucose_level    float64\n",
       "bmi                  float64\n",
       "smoking_status        object\n",
       "dtype: object"
      ]
     },
     "execution_count": 6,
     "metadata": {},
     "output_type": "execute_result"
    }
   ],
   "source": [
    "#Feature data type. \n",
    "df.dtypes"
   ]
  },
  {
   "cell_type": "code",
   "execution_count": 7,
   "metadata": {},
   "outputs": [],
   "source": [
    "from sklearn.preprocessing import LabelEncoder\n",
    "from sklearn.model_selection import train_test_split\n",
    "from sklearn.metrics import accuracy_score, classification_report, precision_score, recall_score, confusion_matrix, precision_recall_curve"
   ]
  },
  {
   "cell_type": "code",
   "execution_count": 8,
   "metadata": {},
   "outputs": [],
   "source": [
    "# Convert the string type to an integer\n",
    "df[\"gender\"] = df[\"gender\"].astype('category').cat.codes\n",
    "df[\"ever_married\"] = df[\"ever_married\"].astype('category').cat.codes\n",
    "df[\"work_type\"] = df[\"work_type\"].astype('category').cat.codes\n",
    "df[\"Residence_type\"] = df[\"Residence_type\"].astype('category').cat.codes\n",
    "df[\"smoking_status\"] = df[\"smoking_status\"].astype('category').cat.codes\n",
    "\n",
    "# Produces X, y, the eigenvalue and the target value\n",
    "target_name = 'stroke'\n",
    "X = df.drop('stroke', axis=1)\n",
    "y = df[target_name]\n",
    "\n",
    "# Divide the data into training and test data sets\n",
    "X_train, X_test, y_train, y_test = train_test_split(X, y, test_size=0.3, random_state=123, stratify=y)"
   ]
  },
  {
   "cell_type": "code",
   "execution_count": 9,
   "metadata": {},
   "outputs": [],
   "source": [
    "import pydotplus \n",
    "\n",
    "from six import StringIO  \n",
    "from sklearn import tree\n",
    "from IPython.display import Image  \n",
    "from sklearn.tree import export_graphviz\n",
    "from sklearn.metrics import roc_auc_score\n",
    "from sklearn.metrics import classification_report\n",
    "from sklearn.ensemble import RandomForestClassifier"
   ]
  },
  {
   "cell_type": "code",
   "execution_count": 10,
   "metadata": {},
   "outputs": [
    {
     "name": "stdout",
     "output_type": "stream",
     "text": [
      "              precision    recall  f1-score   support\n",
      "\n",
      "           0       0.95      0.99      0.97      1458\n",
      "           1       0.18      0.04      0.07        75\n",
      "\n",
      "    accuracy                           0.94      1533\n",
      "   macro avg       0.56      0.52      0.52      1533\n",
      "weighted avg       0.91      0.94      0.93      1533\n",
      "\n"
     ]
    }
   ],
   "source": [
    "# Instantiate a random forest\n",
    "rf = RandomForestClassifier(\n",
    "                            criterion='entropy',\n",
    "                            n_estimators=3, \n",
    "                            max_depth=None, # Defining the depth of the tree can be used to prevent overfitting\n",
    "                            min_samples_split=10, # Define at least how many samples before you bifurcate\n",
    "                            #min_weight_fraction_leaf=0.02 # Define the minimum number of samples a leaf node needs to contain (using percentage expression) to prevent overfitting\n",
    "                            )\n",
    "# Model training\n",
    "rf.fit(X_train, y_train)\n",
    "# Calculation index parameter\n",
    "rf_roc_auc = roc_auc_score(y_test, rf.predict(X_test))\n",
    "#print (\"Random forests AUC = %2.2f\" % rf_roc_auc)\n",
    "print(classification_report(y_test, rf.predict(X_test)))"
   ]
  },
  {
   "cell_type": "code",
   "execution_count": 11,
   "metadata": {},
   "outputs": [
    {
     "data": {
      "image/png": "[encoded data removed]",
      "text/plain": [
       "<Figure size 1080x504 with 1 Axes>"
      ]
     },
     "metadata": {
      "needs_background": "light"
     },
     "output_type": "display_data"
    }
   ],
   "source": [
    "# The importance of a feature\n",
    "importances = rf.feature_importances_\n",
    "# Characteristics of the name\n",
    "feat_names = df.drop(['stroke'],axis=1).columns\n",
    "# The sorting\n",
    "indices = np.argsort(importances)[::-1]\n",
    "# drawing\n",
    "plt.figure(figsize=(15,7))\n",
    "plt.title(\"Feature importances by RandomForest\")\n",
    "plt.bar(range(len(indices)), importances[indices], color='lightblue',  align=\"center\")\n",
    "##plt.step(range(len(indices)), np.cumsum(importances[indices]), where='mid', label='Cumulative')\n",
    "plt.xticks(range(len(indices)), feat_names[indices], rotation=45,fontsize=12)\n",
    "plt.xlim([-1, len(indices)])\n",
    "plt.show()"
   ]
  },
  {
   "cell_type": "code",
   "execution_count": 12,
   "metadata": {},
   "outputs": [
    {
     "name": "stdout",
     "output_type": "stream",
     "text": [
      "[0.15999529 0.01154049 0.28297602 0.01138973 0.03738316 0.01478369\n",
      " 0.02544456 0.01904754 0.22801975 0.16315515 0.04626461]\n",
      "\n",
      "\n",
      "Index(['id', 'gender', 'age', 'hypertension', 'heart_disease', 'ever_married',\n",
      "       'work_type', 'Residence_type', 'avg_glucose_level', 'bmi',\n",
      "       'smoking_status'],\n",
      "      dtype='object')\n"
     ]
    }
   ],
   "source": [
    "print(importances)\n",
    "print('\\n')\n",
    "print(feat_names)"
   ]
  }
 ],
 "metadata": {
  "kernelspec": {
   "display_name": "Python 3",
   "language": "python",
   "name": "python3"
  },
  "language_info": {
   "codemirror_mode": {
    "name": "ipython",
    "version": 3
   },
   "file_extension": ".py",
   "mimetype": "text/x-python",
   "name": "python",
   "nbconvert_exporter": "python",
   "pygments_lexer": "ipython3",
   "version": "3.8.8"
  }
 },
 "nbformat": 4,
 "nbformat_minor": 4
}
